{
 "cells": [
  {
   "cell_type": "code",
   "execution_count": 102,
   "id": "3e6f2e19",
   "metadata": {},
   "outputs": [],
   "source": [
    "import requests\n",
    "import pandas as pd\n",
    "import numpy as np\n",
    "from lxml import etree\n",
    "import re,json"
   ]
  },
  {
   "cell_type": "markdown",
   "id": "8c4d2299",
   "metadata": {},
   "source": [
    "# Web-site Building"
   ]
  },
  {
   "cell_type": "markdown",
   "id": "54e0a2a1",
   "metadata": {},
   "source": [
    "## Getting city name"
   ]
  },
  {
   "cell_type": "code",
   "execution_count": 2,
   "id": "fb890d73",
   "metadata": {},
   "outputs": [],
   "source": [
    "req = requests.get('https://www.magicbricks.com/sitemap.html')"
   ]
  },
  {
   "cell_type": "code",
   "execution_count": 4,
   "id": "733051b0",
   "metadata": {},
   "outputs": [],
   "source": [
    "html = etree.HTML(req.text)"
   ]
  },
  {
   "cell_type": "code",
   "execution_count": 19,
   "id": "38cdcf7b",
   "metadata": {},
   "outputs": [
    {
     "name": "stdout",
     "output_type": "stream",
     "text": [
      "'Bangalore', 'Mumbai', 'Hyderabad', 'Thane', 'Pune', 'New', 'Chennai', 'Ahmedabad', 'Kolkata', 'Gurgaon', 'Noida', 'Navi', 'Jaipur', 'Lucknow', 'Coimbatore', 'Mysore', 'Trivandrum', 'Visakhapatnam', 'Dehradun', 'Beyond', "
     ]
    }
   ],
   "source": [
    "for i in html.xpath('//*[@class=\"mb-home__browse-item__blog-list--item swiper-slide\"]/a/@data-tab'):\n",
    "    print(\"'\"+i+\"',\",end=' ')"
   ]
  },
  {
   "cell_type": "code",
   "execution_count": 20,
   "id": "880d96ce",
   "metadata": {},
   "outputs": [],
   "source": [
    "cities_list = ['New-Delhi','Bangalore','Mumbai', 'Hyderabad', 'Thane', 'Pune', 'New', 'Chennai', 'Ahmedabad', 'Kolkata', 'Gurgaon', 'Noida', 'Navi', 'Jaipur', 'Lucknow', 'Coimbatore', 'Mysore', 'Trivandrum', 'Visakhapatnam', 'Dehradun']\n",
    "c"
   ]
  },
  {
   "cell_type": "code",
   "execution_count": 133,
   "id": "c0e088bc",
   "metadata": {},
   "outputs": [],
   "source": [
    "headers = {\n",
    "    'accept': '*/*',\n",
    "    'accept-language': 'en-IN,en-US;q=0.9,en;q=0.8,te;q=0.7,hi;q=0.6',\n",
    "    'referer': 'https://www.magicbricks.com/',\n",
    "    'sec-ch-ua': '\"Not/A)Brand\";v=\"8\", \"Chromium\";v=\"126\", \"Google Chrome\";v=\"126\"',\n",
    "    'sec-ch-ua-mobile': '?0',\n",
    "    'sec-ch-ua-platform': '\"macOS\"',\n",
    "    'sec-fetch-dest': 'script',\n",
    "    'sec-fetch-mode': 'no-cors',\n",
    "    'sec-fetch-site': 'cross-site',\n",
    "    'user-agent': 'Mozilla/5.0 (Macintosh; Intel Mac OS X 10_15_7) AppleWebKit/537.36 (KHTML, like Gecko) Chrome/126.0.0.0 Safari/537.36',\n",
    "}\n",
    "\n",
    "params = {\n",
    "    'v': '2.9.164',\n",
    "    'r': 'stable',\n",
    "    'domain': 'www.magicbricks.com',\n",
    "    'hme': '61ff4e692c87a9a2ce7b19822df2b04638e3ca38b23c1be6c0f1945ccadb2ad5',\n",
    "    'ex_m': '69,118,104,108,60,4,97,68,16,94,86,50,53,167,170,182,178,179,181,29,98,52,75,180,162,165,175,176,183,127,40,34,139,15,49,189,188,129,18,39,1,42,64,65,66,70,90,17,14,93,89,88,105,51,107,38,106,30,91,26,163,166,136,28,11,12,13,6,7,25,22,23,56,61,63,73,99,27,74,9,8,78,47,21,101,100,102,95,10,20,3,19,83,55,81,33,72,0,92,32,80,85,46,45,84,37,5,87,79,43,35,82,2,36,62,41,103,44,77,67,109,59,58,31,96,57,54,48,76,71,24,110',\n",
    "}\n",
    "\n",
    "response = requests.get('https://connect.facebook.net/signals/config/172724306425159', params=params, headers=headers)"
   ]
  },
  {
   "cell_type": "code",
   "execution_count": 158,
   "id": "ace1841d",
   "metadata": {},
   "outputs": [],
   "source": [
    "all_cities = list(set([c.split('\"')[0].lower().strip() for c in response.text.split('cityName=') if len(c.split('\"')[0])<30]))"
   ]
  },
  {
   "cell_type": "code",
   "execution_count": 159,
   "id": "c1fb599b",
   "metadata": {},
   "outputs": [
    {
     "data": {
      "text/plain": [
       "['jaipur',\n",
       " 'noida',\n",
       " 'delhi\\\\t',\n",
       " 'nagpur',\n",
       " 'ahmedabad',\n",
       " 'delhi',\n",
       " 'faridabad',\n",
       " 'lucknow',\n",
       " 'bangalore',\n",
       " 'chandigarh',\n",
       " 'gurgaon',\n",
       " 'chennai',\n",
       " 'kolkata',\n",
       " 'new-delhi',\n",
       " 'mumbai',\n",
       " 'ghaziabad',\n",
       " 'pune',\n",
       " 'hyderabad']"
      ]
     },
     "execution_count": 159,
     "metadata": {},
     "output_type": "execute_result"
    }
   ],
   "source": [
    "all_cities"
   ]
  },
  {
   "cell_type": "code",
   "execution_count": 168,
   "id": "cf8516b2",
   "metadata": {},
   "outputs": [],
   "source": [
    "cities_list = ['New-Delhi','Bangalore','Mumbai', 'Hyderabad', 'Thane', 'Pune', 'New', 'Chennai', 'Ahmedabad', \n",
    "               'Kolkata', 'Gurgaon', 'Noida', 'Navi-mumbai','ghaziabad', 'Jaipur', 'Lucknow', 'Coimbatore', 'Mysore',\n",
    "               'Trivandrum', 'Visakhapatnam','nagpur','faridabad', 'Dehradun','chandigarh']"
   ]
  },
  {
   "cell_type": "markdown",
   "id": "a48157a5",
   "metadata": {},
   "source": [
    "## Getting project listings url's"
   ]
  },
  {
   "cell_type": "code",
   "execution_count": 160,
   "id": "6cfd46d5",
   "metadata": {},
   "outputs": [],
   "source": [
    "req2 = requests.get('https://www.magicbricks.com/Real-estate-projects-Search/residential--new-project?proptype=Multistorey-Apartment,Builder-Floor-Apartment,Penthouse,Studio-Apartment&cityName=Navi-mumbai')\n",
    "\n"
   ]
  },
  {
   "cell_type": "code",
   "execution_count": 161,
   "id": "f3ded437",
   "metadata": {},
   "outputs": [],
   "source": [
    "html2 = etree.HTML(req2.text)"
   ]
  },
  {
   "cell_type": "code",
   "execution_count": 162,
   "id": "3b98b78f",
   "metadata": {},
   "outputs": [],
   "source": [
    "city_code = html2.xpath('//@data-citycode')[0]"
   ]
  },
  {
   "cell_type": "code",
   "execution_count": 247,
   "id": "974e5eb5",
   "metadata": {},
   "outputs": [],
   "source": [
    "text = html2.xpath('//*[@id=\"projectSearchResultWrapper\"]/div/@onclick')[0]"
   ]
  },
  {
   "cell_type": "code",
   "execution_count": 248,
   "id": "1eb14658",
   "metadata": {},
   "outputs": [
    {
     "data": {
      "text/plain": [
       "\"openProjectDetailPage(event, 'https://www.magicbricks.com/juhi-empressa-sanpada-navi-mumbai-pdpid-4d4235343231393535' + '','Juhi Empressa');ajax_track_comScore('project_search_detail_5421955_C');\""
      ]
     },
     "execution_count": 248,
     "metadata": {},
     "output_type": "execute_result"
    }
   ],
   "source": [
    "text"
   ]
  },
  {
   "cell_type": "code",
   "execution_count": 251,
   "id": "a5be0522",
   "metadata": {
    "scrolled": true
   },
   "outputs": [
    {
     "data": {
      "text/plain": [
       "10"
      ]
     },
     "execution_count": 251,
     "metadata": {},
     "output_type": "execute_result"
    }
   ],
   "source": [
    "len(html2.xpath('//*[@id=\"projectSearchResultWrapper\"]/div/@onclick'))"
   ]
  },
  {
   "cell_type": "code",
   "execution_count": 166,
   "id": "d77d6908",
   "metadata": {},
   "outputs": [],
   "source": [
    "url = re.search(r\"openProjectDetailPage\\(event, '([^']+)\", text).group(1)\n"
   ]
  },
  {
   "cell_type": "code",
   "execution_count": 167,
   "id": "ffd1f707",
   "metadata": {},
   "outputs": [
    {
     "data": {
      "text/plain": [
       "'https://www.magicbricks.com/juhi-empressa-sanpada-navi-mumbai-pdpid-4d4235343231393535'"
      ]
     },
     "execution_count": 167,
     "metadata": {},
     "output_type": "execute_result"
    }
   ],
   "source": [
    "url"
   ]
  },
  {
   "cell_type": "markdown",
   "id": "9fc1b111",
   "metadata": {},
   "source": [
    "## Iterating through next page"
   ]
  },
  {
   "cell_type": "code",
   "execution_count": 235,
   "id": "f82c556a",
   "metadata": {},
   "outputs": [],
   "source": [
    "headers = {\n",
    "    'accept': 'text/html, */*; q=0.01',\n",
    "    'accept-language': 'en-IN,en-US;q=0.9,en;q=0.8,te;q=0.7,hi;q=0.6',\n",
    "    'priority': 'u=1, i',\n",
    "#     'referer': 'https://www.magicbricks.com/Real-estate-projects-Search/residential--new-project?proptype=Multistorey-Apartment,Builder-Floor-Apartment,Penthouse,Studio-Apartment&cityName=New-Delhi',\n",
    "    'sec-ch-ua': '\"Not/A)Brand\";v=\"8\", \"Chromium\";v=\"126\", \"Google Chrome\";v=\"126\"',\n",
    "    'sec-ch-ua-mobile': '?0',\n",
    "    'sec-ch-ua-platform': '\"macOS\"',\n",
    "    'sec-fetch-dest': 'empty',\n",
    "    'sec-fetch-mode': 'cors',\n",
    "    'sec-fetch-site': 'same-origin',\n",
    "    'user-agent': 'Mozilla/5.0 (Macintosh; Intel Mac OS X 10_15_7) AppleWebKit/537.36 (KHTML, like Gecko) Chrome/126.0.0.0 Safari/537.36',\n",
    "    'x-requested-with': 'XMLHttpRequest',\n",
    "}\n",
    "\n",
    "response = requests.get(\n",
    "    'https://www.magicbricks.com/mbsearch/projectSearch.html?groupstart=1&p1=10002_10003_10021_10022_10020&postedSince=-1&city=2624&searchType=5&p2=10002,10003,10021,10022,10020&p3=10002,10003,10021,10022&category=S&page=3',\n",
    "    headers=headers,\n",
    ")\n"
   ]
  },
  {
   "cell_type": "code",
   "execution_count": 252,
   "id": "d4354bb4",
   "metadata": {},
   "outputs": [],
   "source": [
    "headers = {\n",
    "    'accept': 'text/html, */*; q=0.01',\n",
    "    'accept-language': 'en-IN,en-US;q=0.9,en;q=0.8,te;q=0.7,hi;q=0.6',\n",
    "    'priority': 'u=1, i',\n",
    "    'referer': 'https://www.magicbricks.com/Real-estate-projects-Search/residential--new-project?proptype=Multistorey-Apartment,Builder-Floor-Apartment,Penthouse,Studio-Apartment&cityName=New-Delhi',\n",
    "    'sec-ch-ua': '\"Not/A)Brand\";v=\"8\", \"Chromium\";v=\"126\", \"Google Chrome\";v=\"126\"',\n",
    "    'sec-ch-ua-mobile': '?0',\n",
    "    'sec-ch-ua-platform': '\"macOS\"',\n",
    "    'sec-fetch-dest': 'empty',\n",
    "    'sec-fetch-mode': 'cors',\n",
    "    'sec-fetch-site': 'same-origin',\n",
    "    'user-agent': 'Mozilla/5.0 (Macintosh; Intel Mac OS X 10_15_7) AppleWebKit/537.36 (KHTML, like Gecko) Chrome/126.0.0.0 Safari/537.36',\n",
    "    'x-requested-with': 'XMLHttpRequest',\n",
    "}\n",
    "\n",
    "response = requests.get(\n",
    "    'https://www.magicbricks.com/mbsearch/projectSearch.html?groupstart=1&p1=10002_10003_10021_10022_10020&postedSince=-1&city=2624&searchType=5&p2=10002,10003,10021,10022,10020&p3=10002,10003,10021,10022&category=S&page=15',\n",
    "    headers=headers,\n",
    ")"
   ]
  },
  {
   "cell_type": "code",
   "execution_count": 253,
   "id": "0ddf2d45",
   "metadata": {},
   "outputs": [
    {
     "data": {
      "text/plain": [
       "<Response [200]>"
      ]
     },
     "execution_count": 253,
     "metadata": {},
     "output_type": "execute_result"
    }
   ],
   "source": [
    "response"
   ]
  },
  {
   "cell_type": "code",
   "execution_count": 254,
   "id": "89dc29b9",
   "metadata": {},
   "outputs": [],
   "source": [
    "html3 = etree.HTML(response.text)"
   ]
  },
  {
   "cell_type": "code",
   "execution_count": 255,
   "id": "a25ee924",
   "metadata": {},
   "outputs": [],
   "source": [
    "text2 = html3.xpath('//*[@class=\"srpBlockListRow\"]/@onclick')[0]"
   ]
  },
  {
   "cell_type": "code",
   "execution_count": 256,
   "id": "79363628",
   "metadata": {},
   "outputs": [
    {
     "data": {
      "text/plain": [
       "4"
      ]
     },
     "execution_count": 256,
     "metadata": {},
     "output_type": "execute_result"
    }
   ],
   "source": [
    "len(html3.xpath('//*[@class=\"srpBlockListRow\"]/@onclick'))"
   ]
  },
  {
   "cell_type": "code",
   "execution_count": null,
   "id": "0c006541",
   "metadata": {},
   "outputs": [],
   "source": [
    "all_pg_urls = response.xpath('//*[@id=\"projectSearchResultWrapper\"]/div/@onclick').extract()"
   ]
  },
  {
   "cell_type": "code",
   "execution_count": 45,
   "id": "5a416419",
   "metadata": {},
   "outputs": [
    {
     "data": {
      "text/plain": [
       "\"openProjectDetailPage(event, 'https://www.magicbricks.com/leela-skyvillas-navin-minar-patel-nagar-new-delhi-pdpid-4d4235343138333137' + '','Leela Skyvillas Navin Minar');ajax_track_comScore('project_search_detail_5418317_C');\""
      ]
     },
     "execution_count": 45,
     "metadata": {},
     "output_type": "execute_result"
    }
   ],
   "source": [
    "text2"
   ]
  },
  {
   "cell_type": "code",
   "execution_count": 46,
   "id": "5f9e386b",
   "metadata": {},
   "outputs": [
    {
     "data": {
      "text/plain": [
       "'https://www.magicbricks.com/leela-skyvillas-navin-minar-patel-nagar-new-delhi-pdpid-4d4235343138333137'"
      ]
     },
     "execution_count": 46,
     "metadata": {},
     "output_type": "execute_result"
    }
   ],
   "source": [
    "re.search(r\"openProjectDetailPage\\(event, '([^']+)\", text2).group(1)\n"
   ]
  },
  {
   "cell_type": "code",
   "execution_count": 126,
   "id": "feb9192a",
   "metadata": {},
   "outputs": [
    {
     "ename": "IndexError",
     "evalue": "list index out of range",
     "output_type": "error",
     "traceback": [
      "\u001b[0;31m---------------------------------------------------------------------------\u001b[0m",
      "\u001b[0;31mIndexError\u001b[0m                                Traceback (most recent call last)",
      "Cell \u001b[0;32mIn[126], line 1\u001b[0m\n\u001b[0;32m----> 1\u001b[0m html3\u001b[38;5;241m.\u001b[39mxpath(\u001b[38;5;124m'\u001b[39m\u001b[38;5;124m//@data-citycode\u001b[39m\u001b[38;5;124m'\u001b[39m)[\u001b[38;5;241m0\u001b[39m]\n",
      "\u001b[0;31mIndexError\u001b[0m: list index out of range"
     ]
    }
   ],
   "source": [
    "html3.xpath('//@data-citycode')[0]"
   ]
  },
  {
   "cell_type": "markdown",
   "id": "8f14d8e4",
   "metadata": {},
   "source": [
    "## Project listings data"
   ]
  },
  {
   "cell_type": "code",
   "execution_count": 170,
   "id": "71485e3b",
   "metadata": {},
   "outputs": [],
   "source": [
    "url = 'https://www.magicbricks.com/happy-homes-apartment-uttam-nagar-new-delhi-pdpid-4d4235343231353833'\n",
    "req = requests.get(url)\n",
    "html = etree.HTML(req.text)"
   ]
  },
  {
   "cell_type": "code",
   "execution_count": null,
   "id": "dd4ec7b0",
   "metadata": {},
   "outputs": [],
   "source": []
  },
  {
   "cell_type": "code",
   "execution_count": 178,
   "id": "d341948f",
   "metadata": {},
   "outputs": [],
   "source": [
    "project_id = int(html.xpath('//span[@id=\"domcache_project\"]/@data-propertytypecode')[0])\n",
    "project_name = html.xpath('//span[@id=\"domcache_project\"]/@data-psmname')[0]\n",
    "locality = html.xpath('//span[@id=\"domcache_project\"]/@data-locality')[0]\n",
    "city = html.xpath('//span[@id=\"domcache_project\"]/@data-city')[0]\n",
    "project_type = html.xpath('//span[@id=\"domcache_project\"]/@data-propertytype')[0]\n",
    "project_psmid = html.xpath('//span[@id=\"domcache_project\"]/@data-psmid')[0]\n",
    "project_name = html.xpath('//span[@id=\"domcache_project\"]/@data-psmname')[0]\n",
    "latitude = html.xpath('//span[@id=\"domcache_project\"]/@data-psmlat')[0]\n",
    "longitude = html.xpath('//span[@id=\"domcache_project\"]/@data-psmlongt')[0]\n",
    "min_price = html.xpath('//span[@id=\"domcache_project\"]/@data-minprice')[0]\n",
    "max_price = html.xpath('//span[@id=\"domcache_project\"]/@data-maxprice')[0]\n",
    "proj_bhk = str(html.xpath('//span[@id=\"domcache_project\"]/@data-bd')[0].split(','))\n",
    "proj_area = html.xpath('//div[contains(text(),\"Project Size\")]/following-sibling::div/text()')[0]\n",
    "proj_launch_dt = html.xpath('//div[contains(text(),\"Launch Date\")]/following-sibling::div/text()')[0]\n",
    "proj_units_ct = html.xpath('//div[contains(text(),\"Total Units\")]/following-sibling::div/text()')[0]\n",
    "proj_towers_ct = html.xpath('//div[contains(text(),\"Total Towers\")]/following-sibling::div/text()')[0]\n",
    "proj_area = html.xpath('//div[contains(text(),\"Project Size\")]/following-sibling::div/text()')[0]\n",
    "amenities = str([c.strip() for c in html.xpath('//div[@class=\"amenities\"]/div[@class=\"amenities__item \"]/span/text()')])"
   ]
  },
  {
   "cell_type": "code",
   "execution_count": 188,
   "id": "c7cb6242",
   "metadata": {},
   "outputs": [
    {
     "data": {
      "text/plain": [
       "'7000000'"
      ]
     },
     "execution_count": 188,
     "metadata": {},
     "output_type": "execute_result"
    }
   ],
   "source": [
    "project_id,project_name,locality,city,project_type,project_psmid,project_name,latitude,longitude,"
   ]
  },
  {
   "cell_type": "code",
   "execution_count": 190,
   "id": "56cb0492",
   "metadata": {},
   "outputs": [
    {
     "data": {
      "text/plain": [
       "('1400000',\n",
       " '7000000',\n",
       " '1,2,3',\n",
       " '1200 Sq-yrd',\n",
       " 'Jun 23',\n",
       " '25',\n",
       " '5',\n",
       " '1200 Sq-yrd')"
      ]
     },
     "execution_count": 190,
     "metadata": {},
     "output_type": "execute_result"
    }
   ],
   "source": [
    "min_price,max_price,proj_bhk,proj_area,proj_launch_dt,proj_units_ct,proj_towers_ct,proj_area"
   ]
  },
  {
   "cell_type": "code",
   "execution_count": 176,
   "id": "c68e34f6",
   "metadata": {},
   "outputs": [
    {
     "data": {
      "text/plain": [
       "'Power Back Up,Lift,Security,Reserved Parking,Visitor Parking,Rain Water Harvesting,Water Storage,Vaastu Compliant'"
      ]
     },
     "execution_count": 176,
     "metadata": {},
     "output_type": "execute_result"
    }
   ],
   "source": [
    "amenities"
   ]
  },
  {
   "cell_type": "code",
   "execution_count": null,
   "id": "cff513d9",
   "metadata": {},
   "outputs": [],
   "source": []
  },
  {
   "cell_type": "code",
   "execution_count": null,
   "id": "3c2c1216",
   "metadata": {},
   "outputs": [],
   "source": [
    "try:\n",
    "    project_id = html.xpath('//span[@id=\"domcache_project\"]/@data-propertytypecode').extract_first()\n",
    "except:\n",
    "    project_id = None\n",
    "try:\n",
    "    project_name = html.xpath('//span[@id=\"domcache_project\"]/@data-psmname').extract_first()\n",
    "except:\n",
    "    project_name = None\n",
    "try:\n",
    "    locality = html.xpath('//span[@id=\"domcache_project\"]/@data-locality').extract_first()\n",
    "except:\n",
    "    locality = None\n",
    "try:\n",
    "    city = html.xpath('//span[@id=\"domcache_project\"]/@data-city').extract_first()\n",
    "except:\n",
    "    city = None\n",
    "try:\n",
    "    project_type = html.xpath('//span[@id=\"domcache_project\"]/@data-propertytype').extract_first()\n",
    "except:\n",
    "    project_type = None\n",
    "try:\n",
    "    project_psmid = html.xpath('//span[@id=\"domcache_project\"]/@data-psmid').extract_first()\n",
    "except:\n",
    "    project_psmid = None\n",
    "try:\n",
    "    project_name = html.xpath('//span[@id=\"domcache_project\"]/@data-psmname').extract_first()\n",
    "except:\n",
    "    project_name = None\n",
    "try:\n",
    "    latitude = html.xpath('//span[@id=\"domcache_project\"]/@data-psmlat').extract_first()\n",
    "except:\n",
    "    latitude = None\n",
    "try:\n",
    "    longitude = html.xpath('//span[@id=\"domcache_project\"]/@data-psmlongt').extract_first()\n",
    "except:\n",
    "    longitude = None\n",
    "try:\n",
    "    min_price = html.xpath('//span[@id=\"domcache_project\"]/@data-minprice').extract_first()\n",
    "except:\n",
    "    min_price = None\n",
    "try:\n",
    "    max_price = html.xpath('//span[@id=\"domcache_project\"]/@data-maxprice').extract_first()\n",
    "except:\n",
    "    max_price = None\n",
    "try:\n",
    "    proj_bhk = html.xpath('//span[@id=\"domcache_project\"]/@data-bd').extract_first()\n",
    "except:\n",
    "    proj_bhk = None\n",
    "try:\n",
    "    proj_area = html.xpath('//div[contains(text(),\"Project Size\")]/following-sibling::div/text()').extract_first()\n",
    "except:\n",
    "    proj_area = None\n",
    "try:\n",
    "    proj_launch_dt = html.xpath('//div[contains(text(),\"Launch Date\")]/following-sibling::div/text()').extract_first()\n",
    "except:\n",
    "    proj_launch_dt = None\n",
    "try:\n",
    "    proj_units_ct = html.xpath('//div[contains(text(),\"Total Units\")]/following-sibling::div/text()').extract_first()\n",
    "except:\n",
    "    proj_units_ct = None\n",
    "try:\n",
    "    proj_towers_ct = html.xpath('//div[contains(text(),\"Total Towers\")]/following-sibling::div/text()').extract_first()\n",
    "except:\n",
    "    proj_towers_ct = None\n",
    "try:\n",
    "    proj_area = html.xpath('//div[contains(text(),\"Project Size\")]/following-sibling::div/text()').extract_first()\n",
    "except:\n",
    "    proj_area = None\n",
    "try:\n",
    "    amenities = ','.join([c.strip() for c in html.xpath('//div[@class=\"amenities\"]/div[@class=\"amenities__item \"]/span/text()')])\n",
    "except:\n",
    "    amenities = None"
   ]
  },
  {
   "cell_type": "code",
   "execution_count": null,
   "id": "a7f9151a",
   "metadata": {},
   "outputs": [],
   "source": []
  },
  {
   "cell_type": "code",
   "execution_count": 198,
   "id": "ed68a2aa",
   "metadata": {},
   "outputs": [],
   "source": [
    "from datetime import datetime"
   ]
  },
  {
   "cell_type": "code",
   "execution_count": 205,
   "id": "a1072c88",
   "metadata": {},
   "outputs": [
    {
     "data": {
      "text/plain": [
       "2024"
      ]
     },
     "execution_count": 205,
     "metadata": {},
     "output_type": "execute_result"
    }
   ],
   "source": [
    "datetime.now().year"
   ]
  },
  {
   "cell_type": "code",
   "execution_count": 206,
   "id": "fcfaefd1",
   "metadata": {},
   "outputs": [],
   "source": [
    "filename = 'magicbricks_project_{}_{}.csv'.format(datetime.now().year,datetime.now().month)\n"
   ]
  },
  {
   "cell_type": "code",
   "execution_count": 207,
   "id": "d14b0bb7",
   "metadata": {},
   "outputs": [
    {
     "data": {
      "text/plain": [
       "'magicbricks_project_2024_8.csv'"
      ]
     },
     "execution_count": 207,
     "metadata": {},
     "output_type": "execute_result"
    }
   ],
   "source": [
    "filename"
   ]
  },
  {
   "cell_type": "code",
   "execution_count": null,
   "id": "685c3615",
   "metadata": {},
   "outputs": [],
   "source": [
    "https://185.162.229.70:8282,\n",
    "https://203.170.146.146,\n",
    "https://43.153.172.98,\n",
    "https://162.240.73.148"
   ]
  },
  {
   "cell_type": "code",
   "execution_count": 222,
   "id": "fbe3a801",
   "metadata": {},
   "outputs": [
    {
     "ename": "ConnectTimeout",
     "evalue": "HTTPSConnectionPool(host='www.magicbricks.com', port=443): Max retries exceeded with url: /happy-homes-apartment-uttam-nagar-new-delhi-pdpid-4d4235343231353833 (Caused by ConnectTimeoutError(<urllib3.connection.HTTPSConnection object at 0x1475d9c50>, 'Connection to 23.95.94.41 timed out. (connect timeout=None)'))",
     "output_type": "error",
     "traceback": [
      "\u001b[0;31m---------------------------------------------------------------------------\u001b[0m",
      "\u001b[0;31mTimeoutError\u001b[0m                              Traceback (most recent call last)",
      "File \u001b[0;32m~/anaconda3/lib/python3.11/site-packages/urllib3/connection.py:174\u001b[0m, in \u001b[0;36mHTTPConnection._new_conn\u001b[0;34m(self)\u001b[0m\n\u001b[1;32m    173\u001b[0m \u001b[38;5;28;01mtry\u001b[39;00m:\n\u001b[0;32m--> 174\u001b[0m     conn \u001b[38;5;241m=\u001b[39m connection\u001b[38;5;241m.\u001b[39mcreate_connection(\n\u001b[1;32m    175\u001b[0m         (\u001b[38;5;28mself\u001b[39m\u001b[38;5;241m.\u001b[39m_dns_host, \u001b[38;5;28mself\u001b[39m\u001b[38;5;241m.\u001b[39mport), \u001b[38;5;28mself\u001b[39m\u001b[38;5;241m.\u001b[39mtimeout, \u001b[38;5;241m*\u001b[39m\u001b[38;5;241m*\u001b[39mextra_kw\n\u001b[1;32m    176\u001b[0m     )\n\u001b[1;32m    178\u001b[0m \u001b[38;5;28;01mexcept\u001b[39;00m SocketTimeout:\n",
      "File \u001b[0;32m~/anaconda3/lib/python3.11/site-packages/urllib3/util/connection.py:95\u001b[0m, in \u001b[0;36mcreate_connection\u001b[0;34m(address, timeout, source_address, socket_options)\u001b[0m\n\u001b[1;32m     94\u001b[0m \u001b[38;5;28;01mif\u001b[39;00m err \u001b[38;5;129;01mis\u001b[39;00m \u001b[38;5;129;01mnot\u001b[39;00m \u001b[38;5;28;01mNone\u001b[39;00m:\n\u001b[0;32m---> 95\u001b[0m     \u001b[38;5;28;01mraise\u001b[39;00m err\n\u001b[1;32m     97\u001b[0m \u001b[38;5;28;01mraise\u001b[39;00m socket\u001b[38;5;241m.\u001b[39merror(\u001b[38;5;124m\"\u001b[39m\u001b[38;5;124mgetaddrinfo returns an empty list\u001b[39m\u001b[38;5;124m\"\u001b[39m)\n",
      "File \u001b[0;32m~/anaconda3/lib/python3.11/site-packages/urllib3/util/connection.py:85\u001b[0m, in \u001b[0;36mcreate_connection\u001b[0;34m(address, timeout, source_address, socket_options)\u001b[0m\n\u001b[1;32m     84\u001b[0m     sock\u001b[38;5;241m.\u001b[39mbind(source_address)\n\u001b[0;32m---> 85\u001b[0m sock\u001b[38;5;241m.\u001b[39mconnect(sa)\n\u001b[1;32m     86\u001b[0m \u001b[38;5;28;01mreturn\u001b[39;00m sock\n",
      "\u001b[0;31mTimeoutError\u001b[0m: [Errno 60] Operation timed out",
      "\nDuring handling of the above exception, another exception occurred:\n",
      "\u001b[0;31mConnectTimeoutError\u001b[0m                       Traceback (most recent call last)",
      "File \u001b[0;32m~/anaconda3/lib/python3.11/site-packages/urllib3/connectionpool.py:711\u001b[0m, in \u001b[0;36mHTTPConnectionPool.urlopen\u001b[0;34m(self, method, url, body, headers, retries, redirect, assert_same_host, timeout, pool_timeout, release_conn, chunked, body_pos, **response_kw)\u001b[0m\n\u001b[1;32m    710\u001b[0m \u001b[38;5;28;01mif\u001b[39;00m is_new_proxy_conn \u001b[38;5;129;01mand\u001b[39;00m http_tunnel_required:\n\u001b[0;32m--> 711\u001b[0m     \u001b[38;5;28mself\u001b[39m\u001b[38;5;241m.\u001b[39m_prepare_proxy(conn)\n\u001b[1;32m    713\u001b[0m \u001b[38;5;66;03m# Make the request on the httplib connection object.\u001b[39;00m\n",
      "File \u001b[0;32m~/anaconda3/lib/python3.11/site-packages/urllib3/connectionpool.py:1007\u001b[0m, in \u001b[0;36mHTTPSConnectionPool._prepare_proxy\u001b[0;34m(self, conn)\u001b[0m\n\u001b[1;32m   1005\u001b[0m     conn\u001b[38;5;241m.\u001b[39mtls_in_tls_required \u001b[38;5;241m=\u001b[39m \u001b[38;5;28;01mTrue\u001b[39;00m\n\u001b[0;32m-> 1007\u001b[0m conn\u001b[38;5;241m.\u001b[39mconnect()\n",
      "File \u001b[0;32m~/anaconda3/lib/python3.11/site-packages/urllib3/connection.py:363\u001b[0m, in \u001b[0;36mHTTPSConnection.connect\u001b[0;34m(self)\u001b[0m\n\u001b[1;32m    361\u001b[0m \u001b[38;5;28;01mdef\u001b[39;00m \u001b[38;5;21mconnect\u001b[39m(\u001b[38;5;28mself\u001b[39m):\n\u001b[1;32m    362\u001b[0m     \u001b[38;5;66;03m# Add certificate verification\u001b[39;00m\n\u001b[0;32m--> 363\u001b[0m     \u001b[38;5;28mself\u001b[39m\u001b[38;5;241m.\u001b[39msock \u001b[38;5;241m=\u001b[39m conn \u001b[38;5;241m=\u001b[39m \u001b[38;5;28mself\u001b[39m\u001b[38;5;241m.\u001b[39m_new_conn()\n\u001b[1;32m    364\u001b[0m     hostname \u001b[38;5;241m=\u001b[39m \u001b[38;5;28mself\u001b[39m\u001b[38;5;241m.\u001b[39mhost\n",
      "File \u001b[0;32m~/anaconda3/lib/python3.11/site-packages/urllib3/connection.py:179\u001b[0m, in \u001b[0;36mHTTPConnection._new_conn\u001b[0;34m(self)\u001b[0m\n\u001b[1;32m    178\u001b[0m \u001b[38;5;28;01mexcept\u001b[39;00m SocketTimeout:\n\u001b[0;32m--> 179\u001b[0m     \u001b[38;5;28;01mraise\u001b[39;00m ConnectTimeoutError(\n\u001b[1;32m    180\u001b[0m         \u001b[38;5;28mself\u001b[39m,\n\u001b[1;32m    181\u001b[0m         \u001b[38;5;124m\"\u001b[39m\u001b[38;5;124mConnection to \u001b[39m\u001b[38;5;132;01m%s\u001b[39;00m\u001b[38;5;124m timed out. (connect timeout=\u001b[39m\u001b[38;5;132;01m%s\u001b[39;00m\u001b[38;5;124m)\u001b[39m\u001b[38;5;124m\"\u001b[39m\n\u001b[1;32m    182\u001b[0m         \u001b[38;5;241m%\u001b[39m (\u001b[38;5;28mself\u001b[39m\u001b[38;5;241m.\u001b[39mhost, \u001b[38;5;28mself\u001b[39m\u001b[38;5;241m.\u001b[39mtimeout),\n\u001b[1;32m    183\u001b[0m     )\n\u001b[1;32m    185\u001b[0m \u001b[38;5;28;01mexcept\u001b[39;00m SocketError \u001b[38;5;28;01mas\u001b[39;00m e:\n",
      "\u001b[0;31mConnectTimeoutError\u001b[0m: (<urllib3.connection.HTTPSConnection object at 0x1475d9c50>, 'Connection to 23.95.94.41 timed out. (connect timeout=None)')",
      "\nDuring handling of the above exception, another exception occurred:\n",
      "\u001b[0;31mMaxRetryError\u001b[0m                             Traceback (most recent call last)",
      "File \u001b[0;32m~/anaconda3/lib/python3.11/site-packages/requests/adapters.py:486\u001b[0m, in \u001b[0;36mHTTPAdapter.send\u001b[0;34m(self, request, stream, timeout, verify, cert, proxies)\u001b[0m\n\u001b[1;32m    485\u001b[0m \u001b[38;5;28;01mtry\u001b[39;00m:\n\u001b[0;32m--> 486\u001b[0m     resp \u001b[38;5;241m=\u001b[39m conn\u001b[38;5;241m.\u001b[39murlopen(\n\u001b[1;32m    487\u001b[0m         method\u001b[38;5;241m=\u001b[39mrequest\u001b[38;5;241m.\u001b[39mmethod,\n\u001b[1;32m    488\u001b[0m         url\u001b[38;5;241m=\u001b[39murl,\n\u001b[1;32m    489\u001b[0m         body\u001b[38;5;241m=\u001b[39mrequest\u001b[38;5;241m.\u001b[39mbody,\n\u001b[1;32m    490\u001b[0m         headers\u001b[38;5;241m=\u001b[39mrequest\u001b[38;5;241m.\u001b[39mheaders,\n\u001b[1;32m    491\u001b[0m         redirect\u001b[38;5;241m=\u001b[39m\u001b[38;5;28;01mFalse\u001b[39;00m,\n\u001b[1;32m    492\u001b[0m         assert_same_host\u001b[38;5;241m=\u001b[39m\u001b[38;5;28;01mFalse\u001b[39;00m,\n\u001b[1;32m    493\u001b[0m         preload_content\u001b[38;5;241m=\u001b[39m\u001b[38;5;28;01mFalse\u001b[39;00m,\n\u001b[1;32m    494\u001b[0m         decode_content\u001b[38;5;241m=\u001b[39m\u001b[38;5;28;01mFalse\u001b[39;00m,\n\u001b[1;32m    495\u001b[0m         retries\u001b[38;5;241m=\u001b[39m\u001b[38;5;28mself\u001b[39m\u001b[38;5;241m.\u001b[39mmax_retries,\n\u001b[1;32m    496\u001b[0m         timeout\u001b[38;5;241m=\u001b[39mtimeout,\n\u001b[1;32m    497\u001b[0m         chunked\u001b[38;5;241m=\u001b[39mchunked,\n\u001b[1;32m    498\u001b[0m     )\n\u001b[1;32m    500\u001b[0m \u001b[38;5;28;01mexcept\u001b[39;00m (ProtocolError, \u001b[38;5;167;01mOSError\u001b[39;00m) \u001b[38;5;28;01mas\u001b[39;00m err:\n",
      "File \u001b[0;32m~/anaconda3/lib/python3.11/site-packages/urllib3/connectionpool.py:798\u001b[0m, in \u001b[0;36mHTTPConnectionPool.urlopen\u001b[0;34m(self, method, url, body, headers, retries, redirect, assert_same_host, timeout, pool_timeout, release_conn, chunked, body_pos, **response_kw)\u001b[0m\n\u001b[1;32m    796\u001b[0m     e \u001b[38;5;241m=\u001b[39m ProtocolError(\u001b[38;5;124m\"\u001b[39m\u001b[38;5;124mConnection aborted.\u001b[39m\u001b[38;5;124m\"\u001b[39m, e)\n\u001b[0;32m--> 798\u001b[0m retries \u001b[38;5;241m=\u001b[39m retries\u001b[38;5;241m.\u001b[39mincrement(\n\u001b[1;32m    799\u001b[0m     method, url, error\u001b[38;5;241m=\u001b[39me, _pool\u001b[38;5;241m=\u001b[39m\u001b[38;5;28mself\u001b[39m, _stacktrace\u001b[38;5;241m=\u001b[39msys\u001b[38;5;241m.\u001b[39mexc_info()[\u001b[38;5;241m2\u001b[39m]\n\u001b[1;32m    800\u001b[0m )\n\u001b[1;32m    801\u001b[0m retries\u001b[38;5;241m.\u001b[39msleep()\n",
      "File \u001b[0;32m~/anaconda3/lib/python3.11/site-packages/urllib3/util/retry.py:592\u001b[0m, in \u001b[0;36mRetry.increment\u001b[0;34m(self, method, url, response, error, _pool, _stacktrace)\u001b[0m\n\u001b[1;32m    591\u001b[0m \u001b[38;5;28;01mif\u001b[39;00m new_retry\u001b[38;5;241m.\u001b[39mis_exhausted():\n\u001b[0;32m--> 592\u001b[0m     \u001b[38;5;28;01mraise\u001b[39;00m MaxRetryError(_pool, url, error \u001b[38;5;129;01mor\u001b[39;00m ResponseError(cause))\n\u001b[1;32m    594\u001b[0m log\u001b[38;5;241m.\u001b[39mdebug(\u001b[38;5;124m\"\u001b[39m\u001b[38;5;124mIncremented Retry for (url=\u001b[39m\u001b[38;5;124m'\u001b[39m\u001b[38;5;132;01m%s\u001b[39;00m\u001b[38;5;124m'\u001b[39m\u001b[38;5;124m): \u001b[39m\u001b[38;5;132;01m%r\u001b[39;00m\u001b[38;5;124m\"\u001b[39m, url, new_retry)\n",
      "\u001b[0;31mMaxRetryError\u001b[0m: HTTPSConnectionPool(host='www.magicbricks.com', port=443): Max retries exceeded with url: /happy-homes-apartment-uttam-nagar-new-delhi-pdpid-4d4235343231353833 (Caused by ConnectTimeoutError(<urllib3.connection.HTTPSConnection object at 0x1475d9c50>, 'Connection to 23.95.94.41 timed out. (connect timeout=None)'))",
      "\nDuring handling of the above exception, another exception occurred:\n",
      "\u001b[0;31mConnectTimeout\u001b[0m                            Traceback (most recent call last)",
      "Cell \u001b[0;32mIn[222], line 2\u001b[0m\n\u001b[1;32m      1\u001b[0m url \u001b[38;5;241m=\u001b[39m \u001b[38;5;124m'\u001b[39m\u001b[38;5;124mhttps://www.magicbricks.com/happy-homes-apartment-uttam-nagar-new-delhi-pdpid-4d4235343231353833\u001b[39m\u001b[38;5;124m'\u001b[39m\n\u001b[0;32m----> 2\u001b[0m req \u001b[38;5;241m=\u001b[39m requests\u001b[38;5;241m.\u001b[39mget(url,proxies\u001b[38;5;241m=\u001b[39m{\u001b[38;5;124m'\u001b[39m\u001b[38;5;124mhttp\u001b[39m\u001b[38;5;124m'\u001b[39m:\u001b[38;5;124m'\u001b[39m\u001b[38;5;124mhttps://23.95.94.41:3128\u001b[39m\u001b[38;5;124m'\u001b[39m,\u001b[38;5;124m'\u001b[39m\u001b[38;5;124mhttps\u001b[39m\u001b[38;5;124m'\u001b[39m:\u001b[38;5;124m'\u001b[39m\u001b[38;5;124mhttps://23.95.94.41:3128\u001b[39m\u001b[38;5;124m'\u001b[39m})\n",
      "File \u001b[0;32m~/anaconda3/lib/python3.11/site-packages/requests/api.py:73\u001b[0m, in \u001b[0;36mget\u001b[0;34m(url, params, **kwargs)\u001b[0m\n\u001b[1;32m     62\u001b[0m \u001b[38;5;28;01mdef\u001b[39;00m \u001b[38;5;21mget\u001b[39m(url, params\u001b[38;5;241m=\u001b[39m\u001b[38;5;28;01mNone\u001b[39;00m, \u001b[38;5;241m*\u001b[39m\u001b[38;5;241m*\u001b[39mkwargs):\n\u001b[1;32m     63\u001b[0m \u001b[38;5;250m    \u001b[39m\u001b[38;5;124mr\u001b[39m\u001b[38;5;124;03m\"\"\"Sends a GET request.\u001b[39;00m\n\u001b[1;32m     64\u001b[0m \n\u001b[1;32m     65\u001b[0m \u001b[38;5;124;03m    :param url: URL for the new :class:`Request` object.\u001b[39;00m\n\u001b[0;32m   (...)\u001b[0m\n\u001b[1;32m     70\u001b[0m \u001b[38;5;124;03m    :rtype: requests.Response\u001b[39;00m\n\u001b[1;32m     71\u001b[0m \u001b[38;5;124;03m    \"\"\"\u001b[39;00m\n\u001b[0;32m---> 73\u001b[0m     \u001b[38;5;28;01mreturn\u001b[39;00m request(\u001b[38;5;124m\"\u001b[39m\u001b[38;5;124mget\u001b[39m\u001b[38;5;124m\"\u001b[39m, url, params\u001b[38;5;241m=\u001b[39mparams, \u001b[38;5;241m*\u001b[39m\u001b[38;5;241m*\u001b[39mkwargs)\n",
      "File \u001b[0;32m~/anaconda3/lib/python3.11/site-packages/requests/api.py:59\u001b[0m, in \u001b[0;36mrequest\u001b[0;34m(method, url, **kwargs)\u001b[0m\n\u001b[1;32m     55\u001b[0m \u001b[38;5;66;03m# By using the 'with' statement we are sure the session is closed, thus we\u001b[39;00m\n\u001b[1;32m     56\u001b[0m \u001b[38;5;66;03m# avoid leaving sockets open which can trigger a ResourceWarning in some\u001b[39;00m\n\u001b[1;32m     57\u001b[0m \u001b[38;5;66;03m# cases, and look like a memory leak in others.\u001b[39;00m\n\u001b[1;32m     58\u001b[0m \u001b[38;5;28;01mwith\u001b[39;00m sessions\u001b[38;5;241m.\u001b[39mSession() \u001b[38;5;28;01mas\u001b[39;00m session:\n\u001b[0;32m---> 59\u001b[0m     \u001b[38;5;28;01mreturn\u001b[39;00m session\u001b[38;5;241m.\u001b[39mrequest(method\u001b[38;5;241m=\u001b[39mmethod, url\u001b[38;5;241m=\u001b[39murl, \u001b[38;5;241m*\u001b[39m\u001b[38;5;241m*\u001b[39mkwargs)\n",
      "File \u001b[0;32m~/anaconda3/lib/python3.11/site-packages/requests/sessions.py:589\u001b[0m, in \u001b[0;36mSession.request\u001b[0;34m(self, method, url, params, data, headers, cookies, files, auth, timeout, allow_redirects, proxies, hooks, stream, verify, cert, json)\u001b[0m\n\u001b[1;32m    584\u001b[0m send_kwargs \u001b[38;5;241m=\u001b[39m {\n\u001b[1;32m    585\u001b[0m     \u001b[38;5;124m\"\u001b[39m\u001b[38;5;124mtimeout\u001b[39m\u001b[38;5;124m\"\u001b[39m: timeout,\n\u001b[1;32m    586\u001b[0m     \u001b[38;5;124m\"\u001b[39m\u001b[38;5;124mallow_redirects\u001b[39m\u001b[38;5;124m\"\u001b[39m: allow_redirects,\n\u001b[1;32m    587\u001b[0m }\n\u001b[1;32m    588\u001b[0m send_kwargs\u001b[38;5;241m.\u001b[39mupdate(settings)\n\u001b[0;32m--> 589\u001b[0m resp \u001b[38;5;241m=\u001b[39m \u001b[38;5;28mself\u001b[39m\u001b[38;5;241m.\u001b[39msend(prep, \u001b[38;5;241m*\u001b[39m\u001b[38;5;241m*\u001b[39msend_kwargs)\n\u001b[1;32m    591\u001b[0m \u001b[38;5;28;01mreturn\u001b[39;00m resp\n",
      "File \u001b[0;32m~/anaconda3/lib/python3.11/site-packages/requests/sessions.py:703\u001b[0m, in \u001b[0;36mSession.send\u001b[0;34m(self, request, **kwargs)\u001b[0m\n\u001b[1;32m    700\u001b[0m start \u001b[38;5;241m=\u001b[39m preferred_clock()\n\u001b[1;32m    702\u001b[0m \u001b[38;5;66;03m# Send the request\u001b[39;00m\n\u001b[0;32m--> 703\u001b[0m r \u001b[38;5;241m=\u001b[39m adapter\u001b[38;5;241m.\u001b[39msend(request, \u001b[38;5;241m*\u001b[39m\u001b[38;5;241m*\u001b[39mkwargs)\n\u001b[1;32m    705\u001b[0m \u001b[38;5;66;03m# Total elapsed time of the request (approximately)\u001b[39;00m\n\u001b[1;32m    706\u001b[0m elapsed \u001b[38;5;241m=\u001b[39m preferred_clock() \u001b[38;5;241m-\u001b[39m start\n",
      "File \u001b[0;32m~/anaconda3/lib/python3.11/site-packages/requests/adapters.py:507\u001b[0m, in \u001b[0;36mHTTPAdapter.send\u001b[0;34m(self, request, stream, timeout, verify, cert, proxies)\u001b[0m\n\u001b[1;32m    504\u001b[0m \u001b[38;5;28;01mif\u001b[39;00m \u001b[38;5;28misinstance\u001b[39m(e\u001b[38;5;241m.\u001b[39mreason, ConnectTimeoutError):\n\u001b[1;32m    505\u001b[0m     \u001b[38;5;66;03m# TODO: Remove this in 3.0.0: see #2811\u001b[39;00m\n\u001b[1;32m    506\u001b[0m     \u001b[38;5;28;01mif\u001b[39;00m \u001b[38;5;129;01mnot\u001b[39;00m \u001b[38;5;28misinstance\u001b[39m(e\u001b[38;5;241m.\u001b[39mreason, NewConnectionError):\n\u001b[0;32m--> 507\u001b[0m         \u001b[38;5;28;01mraise\u001b[39;00m ConnectTimeout(e, request\u001b[38;5;241m=\u001b[39mrequest)\n\u001b[1;32m    509\u001b[0m \u001b[38;5;28;01mif\u001b[39;00m \u001b[38;5;28misinstance\u001b[39m(e\u001b[38;5;241m.\u001b[39mreason, ResponseError):\n\u001b[1;32m    510\u001b[0m     \u001b[38;5;28;01mraise\u001b[39;00m RetryError(e, request\u001b[38;5;241m=\u001b[39mrequest)\n",
      "\u001b[0;31mConnectTimeout\u001b[0m: HTTPSConnectionPool(host='www.magicbricks.com', port=443): Max retries exceeded with url: /happy-homes-apartment-uttam-nagar-new-delhi-pdpid-4d4235343231353833 (Caused by ConnectTimeoutError(<urllib3.connection.HTTPSConnection object at 0x1475d9c50>, 'Connection to 23.95.94.41 timed out. (connect timeout=None)'))"
     ]
    }
   ],
   "source": [
    "url = 'https://www.magicbricks.com/happy-homes-apartment-uttam-nagar-new-delhi-pdpid-4d4235343231353833'\n",
    "req = requests.get(url,proxies={'http':'https://23.95.94.41:3128','https':'https://23.95.94.41:3128'})"
   ]
  },
  {
   "cell_type": "code",
   "execution_count": null,
   "id": "cb96b8ce",
   "metadata": {},
   "outputs": [],
   "source": [
    "https://23.95.94.41:3128,\n",
    "https://82.146.48.200:8000,\n",
    "https://83.171.248.156:3128"
   ]
  },
  {
   "cell_type": "code",
   "execution_count": 283,
   "id": "7ef4faa2",
   "metadata": {},
   "outputs": [],
   "source": [
    "req1 = requests.get('https://www.magicbricks.com/mbsearch/projectSearch.html?groupstart=1&p1=10002_10003_10021_10022_10020&postedSince=-1&city=2624&searchType=5&p2=10002,10003,10021,10022,10020&p3=10002,10003,10021,10022&category=S&page=103',headers=headers)"
   ]
  },
  {
   "cell_type": "code",
   "execution_count": 284,
   "id": "ac70bab4",
   "metadata": {},
   "outputs": [],
   "source": [
    "html3 = etree.HTML(req1.text)"
   ]
  },
  {
   "cell_type": "code",
   "execution_count": 285,
   "id": "aed5755f",
   "metadata": {},
   "outputs": [
    {
     "data": {
      "text/plain": [
       "<Response [200]>"
      ]
     },
     "execution_count": 285,
     "metadata": {},
     "output_type": "execute_result"
    }
   ],
   "source": [
    "req1"
   ]
  },
  {
   "cell_type": "code",
   "execution_count": 287,
   "id": "4c2ce43b",
   "metadata": {},
   "outputs": [
    {
     "data": {
      "text/plain": [
       "10"
      ]
     },
     "execution_count": 287,
     "metadata": {},
     "output_type": "execute_result"
    }
   ],
   "source": [
    "len(html3.xpath('//*[@class=\"srpBlockListRow\"]/@onclick'))"
   ]
  },
  {
   "cell_type": "code",
   "execution_count": 288,
   "id": "89f2e0b3",
   "metadata": {},
   "outputs": [
    {
     "data": {
      "text/plain": [
       "0"
      ]
     },
     "execution_count": 288,
     "metadata": {},
     "output_type": "execute_result"
    }
   ],
   "source": [
    "len(html3.xpath('//*[@id=\"projectSearchResultWrapper\"]/div/@onclick'))"
   ]
  },
  {
   "cell_type": "code",
   "execution_count": null,
   "id": "224f2715",
   "metadata": {},
   "outputs": [],
   "source": []
  },
  {
   "cell_type": "code",
   "execution_count": 227,
   "id": "4cca3662",
   "metadata": {},
   "outputs": [],
   "source": [
    "import time"
   ]
  },
  {
   "cell_type": "code",
   "execution_count": 229,
   "id": "4d489a20",
   "metadata": {},
   "outputs": [],
   "source": [
    "time.sleep(0.5)"
   ]
  },
  {
   "cell_type": "markdown",
   "id": "9308376e",
   "metadata": {},
   "source": [
    "# data analysis"
   ]
  },
  {
   "cell_type": "code",
   "execution_count": 296,
   "id": "97e1a37b",
   "metadata": {},
   "outputs": [],
   "source": [
    "df = pd.read_csv('/Users/saibharath/Desktop/Career Projects/fun_projects/magicbricks/magicbricks_project_2024_8.csv',header=None)"
   ]
  },
  {
   "cell_type": "code",
   "execution_count": 297,
   "id": "c482b8ff",
   "metadata": {
    "scrolled": true
   },
   "outputs": [
    {
     "data": {
      "text/html": [
       "<div>\n",
       "<style scoped>\n",
       "    .dataframe tbody tr th:only-of-type {\n",
       "        vertical-align: middle;\n",
       "    }\n",
       "\n",
       "    .dataframe tbody tr th {\n",
       "        vertical-align: top;\n",
       "    }\n",
       "\n",
       "    .dataframe thead th {\n",
       "        text-align: right;\n",
       "    }\n",
       "</style>\n",
       "<table border=\"1\" class=\"dataframe\">\n",
       "  <thead>\n",
       "    <tr style=\"text-align: right;\">\n",
       "      <th></th>\n",
       "      <th>0</th>\n",
       "      <th>1</th>\n",
       "      <th>2</th>\n",
       "      <th>3</th>\n",
       "      <th>4</th>\n",
       "      <th>5</th>\n",
       "      <th>6</th>\n",
       "      <th>7</th>\n",
       "      <th>8</th>\n",
       "      <th>9</th>\n",
       "      <th>10</th>\n",
       "      <th>11</th>\n",
       "      <th>12</th>\n",
       "      <th>13</th>\n",
       "      <th>14</th>\n",
       "      <th>15</th>\n",
       "      <th>16</th>\n",
       "      <th>17</th>\n",
       "    </tr>\n",
       "  </thead>\n",
       "  <tbody>\n",
       "    <tr>\n",
       "      <th>0</th>\n",
       "      <td>5421583.0</td>\n",
       "      <td>Happy Homes Apartment</td>\n",
       "      <td>Uttam-Nagar</td>\n",
       "      <td>New-Delhi</td>\n",
       "      <td>Builder Floor Apartment</td>\n",
       "      <td>Happy Homes</td>\n",
       "      <td>28.619923</td>\n",
       "      <td>77.057499</td>\n",
       "      <td>1400000.0</td>\n",
       "      <td>7000000.0</td>\n",
       "      <td>['1', '2', '3']</td>\n",
       "      <td>1200 Sq-yrd</td>\n",
       "      <td>Jun 23</td>\n",
       "      <td>NaN</td>\n",
       "      <td>25</td>\n",
       "      <td>5</td>\n",
       "      <td>1200 Sq-yrd</td>\n",
       "      <td>['Power Back Up', 'Lift', 'Security', 'Reserve...</td>\n",
       "    </tr>\n",
       "    <tr>\n",
       "      <th>1</th>\n",
       "      <td>5393523.0</td>\n",
       "      <td>Mahavir Enclave Luxury Apartments</td>\n",
       "      <td>Mahavir-Enclave</td>\n",
       "      <td>New-Delhi</td>\n",
       "      <td>Builder Floor Apartment</td>\n",
       "      <td>Divyan Homes</td>\n",
       "      <td>28.600878</td>\n",
       "      <td>77.080314</td>\n",
       "      <td>0.0</td>\n",
       "      <td>0.0</td>\n",
       "      <td>['4']</td>\n",
       "      <td>200 Sq-yrd</td>\n",
       "      <td>Jan 23</td>\n",
       "      <td>NaN</td>\n",
       "      <td>7</td>\n",
       "      <td>1</td>\n",
       "      <td>200 Sq-yrd</td>\n",
       "      <td>['Lift', 'Security', 'Modular Kitchen', 'Commu...</td>\n",
       "    </tr>\n",
       "    <tr>\n",
       "      <th>2</th>\n",
       "      <td>5409993.0</td>\n",
       "      <td>Ryhan Royal Park</td>\n",
       "      <td>Tughlakabad</td>\n",
       "      <td>New-Delhi</td>\n",
       "      <td>NaN</td>\n",
       "      <td>Kiera Construction &amp; Developer Pvt Ltd</td>\n",
       "      <td>28.508718</td>\n",
       "      <td>77.274979</td>\n",
       "      <td>NaN</td>\n",
       "      <td>NaN</td>\n",
       "      <td>['']</td>\n",
       "      <td>2 Acre</td>\n",
       "      <td>Jun 23</td>\n",
       "      <td>NaN</td>\n",
       "      <td>79</td>\n",
       "      <td>NaN</td>\n",
       "      <td>2 Acre</td>\n",
       "      <td>['Security', 'Park', 'Reserved Parking', 'Wate...</td>\n",
       "    </tr>\n",
       "    <tr>\n",
       "      <th>3</th>\n",
       "      <td>5416247.0</td>\n",
       "      <td>Shubharambh</td>\n",
       "      <td>Uttam-Nagar</td>\n",
       "      <td>New-Delhi</td>\n",
       "      <td>NaN</td>\n",
       "      <td>S Gambhir Buildtech Pvt. Ltd</td>\n",
       "      <td>28.619923</td>\n",
       "      <td>77.057499</td>\n",
       "      <td>NaN</td>\n",
       "      <td>NaN</td>\n",
       "      <td>['']</td>\n",
       "      <td>1200 Sq-yrd</td>\n",
       "      <td>Jun 23</td>\n",
       "      <td>NaN</td>\n",
       "      <td>40</td>\n",
       "      <td>2</td>\n",
       "      <td>1200 Sq-yrd</td>\n",
       "      <td>['Power Back Up', 'Lift', 'Security', 'Reserve...</td>\n",
       "    </tr>\n",
       "    <tr>\n",
       "      <th>4</th>\n",
       "      <td>5416483.0</td>\n",
       "      <td>Neelkanth Plots</td>\n",
       "      <td>Sector-34-Rohini</td>\n",
       "      <td>New-Delhi</td>\n",
       "      <td>NaN</td>\n",
       "      <td>Neelkanth Real Estate</td>\n",
       "      <td>28.773546</td>\n",
       "      <td>77.076992</td>\n",
       "      <td>0.0</td>\n",
       "      <td>0.0</td>\n",
       "      <td>['']</td>\n",
       "      <td>3000 Sq-m</td>\n",
       "      <td>Jun 23</td>\n",
       "      <td>NaN</td>\n",
       "      <td>50</td>\n",
       "      <td>NaN</td>\n",
       "      <td>3000 Sq-m</td>\n",
       "      <td>['Security', 'Park', 'Kids play area']</td>\n",
       "    </tr>\n",
       "    <tr>\n",
       "      <th>...</th>\n",
       "      <td>...</td>\n",
       "      <td>...</td>\n",
       "      <td>...</td>\n",
       "      <td>...</td>\n",
       "      <td>...</td>\n",
       "      <td>...</td>\n",
       "      <td>...</td>\n",
       "      <td>...</td>\n",
       "      <td>...</td>\n",
       "      <td>...</td>\n",
       "      <td>...</td>\n",
       "      <td>...</td>\n",
       "      <td>...</td>\n",
       "      <td>...</td>\n",
       "      <td>...</td>\n",
       "      <td>...</td>\n",
       "      <td>...</td>\n",
       "      <td>...</td>\n",
       "    </tr>\n",
       "    <tr>\n",
       "      <th>13551</th>\n",
       "      <td>5283859.0</td>\n",
       "      <td>Udita the Condoville</td>\n",
       "      <td>Santoshpur</td>\n",
       "      <td>Kolkata</td>\n",
       "      <td>Multistorey Apartment</td>\n",
       "      <td>NaN</td>\n",
       "      <td>22.489043</td>\n",
       "      <td>88.389162</td>\n",
       "      <td>0.0</td>\n",
       "      <td>0.0</td>\n",
       "      <td>['2']</td>\n",
       "      <td>NaN</td>\n",
       "      <td>NaN</td>\n",
       "      <td>NaN</td>\n",
       "      <td>NaN</td>\n",
       "      <td>NaN</td>\n",
       "      <td>NaN</td>\n",
       "      <td>[]</td>\n",
       "    </tr>\n",
       "    <tr>\n",
       "      <th>13552</th>\n",
       "      <td>5195695.0</td>\n",
       "      <td>Silver Spring Apartments</td>\n",
       "      <td>Tangra</td>\n",
       "      <td>Kolkata</td>\n",
       "      <td>Multistorey Apartment</td>\n",
       "      <td>Dhoot Group</td>\n",
       "      <td>22.550810</td>\n",
       "      <td>88.399954</td>\n",
       "      <td>0.0</td>\n",
       "      <td>0.0</td>\n",
       "      <td>['']</td>\n",
       "      <td>NaN</td>\n",
       "      <td>Jan 03</td>\n",
       "      <td>NaN</td>\n",
       "      <td>520</td>\n",
       "      <td>10</td>\n",
       "      <td>NaN</td>\n",
       "      <td>['Power Back Up', 'Swimming Pool', 'Lift', 'Se...</td>\n",
       "    </tr>\n",
       "    <tr>\n",
       "      <th>13553</th>\n",
       "      <td>5171321.0</td>\n",
       "      <td>Golf Towers</td>\n",
       "      <td>Tollygunge</td>\n",
       "      <td>Kolkata</td>\n",
       "      <td>Multistorey Apartment</td>\n",
       "      <td>Meharia Group</td>\n",
       "      <td>22.500658</td>\n",
       "      <td>88.356712</td>\n",
       "      <td>0.0</td>\n",
       "      <td>0.0</td>\n",
       "      <td>['']</td>\n",
       "      <td>NaN</td>\n",
       "      <td>NaN</td>\n",
       "      <td>NaN</td>\n",
       "      <td>50</td>\n",
       "      <td>NaN</td>\n",
       "      <td>NaN</td>\n",
       "      <td>[]</td>\n",
       "    </tr>\n",
       "    <tr>\n",
       "      <th>13554</th>\n",
       "      <td>5076263.0</td>\n",
       "      <td>City High</td>\n",
       "      <td>Tollygunge</td>\n",
       "      <td>Kolkata</td>\n",
       "      <td>Multistorey Apartment</td>\n",
       "      <td>Favista Group</td>\n",
       "      <td>22.502792</td>\n",
       "      <td>88.349050</td>\n",
       "      <td>0.0</td>\n",
       "      <td>0.0</td>\n",
       "      <td>['2', '3']</td>\n",
       "      <td>1 Acre</td>\n",
       "      <td>Jan 04</td>\n",
       "      <td>NaN</td>\n",
       "      <td>NaN</td>\n",
       "      <td>1</td>\n",
       "      <td>1 Acre</td>\n",
       "      <td>['Lift', 'Security', 'Visitor Parking', 'Maint...</td>\n",
       "    </tr>\n",
       "    <tr>\n",
       "      <th>13555</th>\n",
       "      <td>5082447.0</td>\n",
       "      <td>Jiten Shriti Bhavan</td>\n",
       "      <td>Kaikhali</td>\n",
       "      <td>Kolkata</td>\n",
       "      <td>Multistorey Apartment</td>\n",
       "      <td>Mamata Realtors</td>\n",
       "      <td>22.629927</td>\n",
       "      <td>88.434697</td>\n",
       "      <td>0.0</td>\n",
       "      <td>0.0</td>\n",
       "      <td>['2']</td>\n",
       "      <td>NaN</td>\n",
       "      <td>Feb 14</td>\n",
       "      <td>NaN</td>\n",
       "      <td>70</td>\n",
       "      <td>1</td>\n",
       "      <td>NaN</td>\n",
       "      <td>['Lift', 'Reserved Parking', 'Maintenance Staff']</td>\n",
       "    </tr>\n",
       "  </tbody>\n",
       "</table>\n",
       "<p>13556 rows × 18 columns</p>\n",
       "</div>"
      ],
      "text/plain": [
       "              0                                  1                 2   \\\n",
       "0      5421583.0              Happy Homes Apartment       Uttam-Nagar   \n",
       "1      5393523.0  Mahavir Enclave Luxury Apartments   Mahavir-Enclave   \n",
       "2      5409993.0                   Ryhan Royal Park       Tughlakabad   \n",
       "3      5416247.0                        Shubharambh       Uttam-Nagar   \n",
       "4      5416483.0                    Neelkanth Plots  Sector-34-Rohini   \n",
       "...          ...                                ...               ...   \n",
       "13551  5283859.0               Udita the Condoville        Santoshpur   \n",
       "13552  5195695.0           Silver Spring Apartments            Tangra   \n",
       "13553  5171321.0                        Golf Towers        Tollygunge   \n",
       "13554  5076263.0                          City High        Tollygunge   \n",
       "13555  5082447.0                Jiten Shriti Bhavan          Kaikhali   \n",
       "\n",
       "              3                        4   \\\n",
       "0      New-Delhi  Builder Floor Apartment   \n",
       "1      New-Delhi  Builder Floor Apartment   \n",
       "2      New-Delhi                      NaN   \n",
       "3      New-Delhi                      NaN   \n",
       "4      New-Delhi                      NaN   \n",
       "...          ...                      ...   \n",
       "13551    Kolkata    Multistorey Apartment   \n",
       "13552    Kolkata    Multistorey Apartment   \n",
       "13553    Kolkata    Multistorey Apartment   \n",
       "13554    Kolkata    Multistorey Apartment   \n",
       "13555    Kolkata    Multistorey Apartment   \n",
       "\n",
       "                                           5          6          7   \\\n",
       "0                                 Happy Homes  28.619923  77.057499   \n",
       "1                                Divyan Homes  28.600878  77.080314   \n",
       "2      Kiera Construction & Developer Pvt Ltd  28.508718  77.274979   \n",
       "3                S Gambhir Buildtech Pvt. Ltd  28.619923  77.057499   \n",
       "4                       Neelkanth Real Estate  28.773546  77.076992   \n",
       "...                                       ...        ...        ...   \n",
       "13551                                     NaN  22.489043  88.389162   \n",
       "13552                             Dhoot Group  22.550810  88.399954   \n",
       "13553                           Meharia Group  22.500658  88.356712   \n",
       "13554                           Favista Group  22.502792  88.349050   \n",
       "13555                         Mamata Realtors  22.629927  88.434697   \n",
       "\n",
       "              8          9                10           11      12   13   14  \\\n",
       "0      1400000.0  7000000.0  ['1', '2', '3']  1200 Sq-yrd  Jun 23  NaN   25   \n",
       "1            0.0        0.0            ['4']   200 Sq-yrd  Jan 23  NaN    7   \n",
       "2            NaN        NaN             ['']       2 Acre  Jun 23  NaN   79   \n",
       "3            NaN        NaN             ['']  1200 Sq-yrd  Jun 23  NaN   40   \n",
       "4            0.0        0.0             ['']    3000 Sq-m  Jun 23  NaN   50   \n",
       "...          ...        ...              ...          ...     ...  ...  ...   \n",
       "13551        0.0        0.0            ['2']          NaN     NaN  NaN  NaN   \n",
       "13552        0.0        0.0             ['']          NaN  Jan 03  NaN  520   \n",
       "13553        0.0        0.0             ['']          NaN     NaN  NaN   50   \n",
       "13554        0.0        0.0       ['2', '3']       1 Acre  Jan 04  NaN  NaN   \n",
       "13555        0.0        0.0            ['2']          NaN  Feb 14  NaN   70   \n",
       "\n",
       "        15           16                                                 17  \n",
       "0        5  1200 Sq-yrd  ['Power Back Up', 'Lift', 'Security', 'Reserve...  \n",
       "1        1   200 Sq-yrd  ['Lift', 'Security', 'Modular Kitchen', 'Commu...  \n",
       "2      NaN       2 Acre  ['Security', 'Park', 'Reserved Parking', 'Wate...  \n",
       "3        2  1200 Sq-yrd  ['Power Back Up', 'Lift', 'Security', 'Reserve...  \n",
       "4      NaN    3000 Sq-m             ['Security', 'Park', 'Kids play area']  \n",
       "...    ...          ...                                                ...  \n",
       "13551  NaN          NaN                                                 []  \n",
       "13552   10          NaN  ['Power Back Up', 'Swimming Pool', 'Lift', 'Se...  \n",
       "13553  NaN          NaN                                                 []  \n",
       "13554    1       1 Acre  ['Lift', 'Security', 'Visitor Parking', 'Maint...  \n",
       "13555    1          NaN  ['Lift', 'Reserved Parking', 'Maintenance Staff']  \n",
       "\n",
       "[13556 rows x 18 columns]"
      ]
     },
     "execution_count": 297,
     "metadata": {},
     "output_type": "execute_result"
    }
   ],
   "source": [
    "df"
   ]
  },
  {
   "cell_type": "code",
   "execution_count": 302,
   "id": "ffcc7f1a",
   "metadata": {},
   "outputs": [],
   "source": [
    "df.drop_duplicates(inplace=True)"
   ]
  },
  {
   "cell_type": "code",
   "execution_count": 305,
   "id": "3cc7bff2",
   "metadata": {},
   "outputs": [
    {
     "data": {
      "text/plain": [
       "3\n",
       "Ahmedabad        1857\n",
       "Navi-Mumbai      1449\n",
       "Kolkata           989\n",
       "Pune              951\n",
       "Gurgaon           945\n",
       "Jaipur            814\n",
       "Hyderabad         760\n",
       "Bangalore         648\n",
       "New-Delhi         625\n",
       "Mumbai            619\n",
       "Noida             514\n",
       "Thane             468\n",
       "Ghaziabad         453\n",
       "Nagpur            405\n",
       "Chennai           354\n",
       "Lucknow           251\n",
       "Faridabad         224\n",
       "Visakhapatnam     182\n",
       "Chandigarh        109\n",
       "Dehradun           87\n",
       "Trivandrum         86\n",
       "Mysore             86\n",
       "Coimbatore         54\n",
       "Name: count, dtype: int64"
      ]
     },
     "execution_count": 305,
     "metadata": {},
     "output_type": "execute_result"
    }
   ],
   "source": [
    "df[3].value_counts()"
   ]
  },
  {
   "cell_type": "code",
   "execution_count": 308,
   "id": "e991072f",
   "metadata": {},
   "outputs": [],
   "source": [
    "cities_list = ['New-Delhi','Bangalore','Mumbai', 'Hyderabad', 'Thane', 'Pune', 'Chennai', 'Ahmedabad', \n",
    "               'Kolkata', 'Gurgaon', 'Noida', 'Navi-mumbai','ghaziabad', 'Jaipur', 'Lucknow', 'Coimbatore', 'Mysore',\n",
    "               'Trivandrum', 'Visakhapatnam','nagpur','faridabad', 'Dehradun','chandigarh']"
   ]
  },
  {
   "cell_type": "code",
   "execution_count": 309,
   "id": "8dab6085",
   "metadata": {},
   "outputs": [
    {
     "data": {
      "text/plain": [
       "23"
      ]
     },
     "execution_count": 309,
     "metadata": {},
     "output_type": "execute_result"
    }
   ],
   "source": [
    "len(cities_list)"
   ]
  },
  {
   "cell_type": "code",
   "execution_count": 300,
   "id": "7cd02db3",
   "metadata": {},
   "outputs": [
    {
     "data": {
      "text/plain": [
       "0     12930\n",
       "1     12596\n",
       "2      1832\n",
       "3        23\n",
       "4        52\n",
       "5      6175\n",
       "6      7211\n",
       "7      7212\n",
       "8      1900\n",
       "9      1953\n",
       "10       36\n",
       "11     1507\n",
       "12      388\n",
       "13      117\n",
       "14     1209\n",
       "15       87\n",
       "16     1507\n",
       "17     7317\n",
       "dtype: int64"
      ]
     },
     "execution_count": 300,
     "metadata": {},
     "output_type": "execute_result"
    }
   ],
   "source": [
    "df.nunique()"
   ]
  },
  {
   "cell_type": "code",
   "execution_count": 265,
   "id": "5cb288ec",
   "metadata": {},
   "outputs": [],
   "source": [
    "import os"
   ]
  },
  {
   "cell_type": "code",
   "execution_count": 307,
   "id": "621d5c73",
   "metadata": {},
   "outputs": [
    {
     "data": {
      "text/plain": [
       "24"
      ]
     },
     "execution_count": 307,
     "metadata": {},
     "output_type": "execute_result"
    }
   ],
   "source": [
    "len(cities_list)"
   ]
  },
  {
   "cell_type": "code",
   "execution_count": null,
   "id": "2b5bf0f5",
   "metadata": {},
   "outputs": [],
   "source": []
  }
 ],
 "metadata": {
  "kernelspec": {
   "display_name": "Python 3 (ipykernel)",
   "language": "python",
   "name": "python3"
  },
  "language_info": {
   "codemirror_mode": {
    "name": "ipython",
    "version": 3
   },
   "file_extension": ".py",
   "mimetype": "text/x-python",
   "name": "python",
   "nbconvert_exporter": "python",
   "pygments_lexer": "ipython3",
   "version": "3.11.5"
  },
  "toc": {
   "base_numbering": 1,
   "nav_menu": {},
   "number_sections": true,
   "sideBar": true,
   "skip_h1_title": false,
   "title_cell": "Table of Contents",
   "title_sidebar": "Contents",
   "toc_cell": false,
   "toc_position": {},
   "toc_section_display": true,
   "toc_window_display": false
  }
 },
 "nbformat": 4,
 "nbformat_minor": 5
}
